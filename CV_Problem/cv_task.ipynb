{
  "nbformat": 4,
  "nbformat_minor": 0,
  "metadata": {
    "colab": {
      "name": "midas_iiitd_cv_task.ipynb",
      "version": "0.3.2",
      "provenance": [],
      "collapsed_sections": [
        "vVbe_xNiB1D_"
      ],
      "include_colab_link": true
    },
    "kernelspec": {
      "name": "python3",
      "display_name": "Python 3"
    },
    "accelerator": "GPU"
  },
  "cells": [
    {
      "cell_type": "markdown",
      "metadata": {
        "id": "view-in-github",
        "colab_type": "text"
      },
      "source": [
        "<a href=\"https://colab.research.google.com/github/IAmSuyogJadhav/midas-iiitd-tasks/blob/master/CV_Problem/cv_task.ipynb\" target=\"_parent\"><img src=\"https://colab.research.google.com/assets/colab-badge.svg\" alt=\"Open In Colab\"/></a>"
      ]
    },
    {
      "metadata": {
        "id": "7495LGSwBZZ_",
        "colab_type": "text"
      },
      "cell_type": "markdown",
      "source": [
        "# Colab Stuff\n",
        "Some setup needed to run the notebook in Google Colab environment."
      ]
    },
    {
      "metadata": {
        "id": "mcKb0_UMsW-Y",
        "colab_type": "text"
      },
      "cell_type": "markdown",
      "source": [
        "Mount the Google Drive"
      ]
    },
    {
      "metadata": {
        "id": "77ltoyY8BLbT",
        "colab_type": "code",
        "colab": {
          "base_uri": "https://localhost:8080/",
          "height": 125
        },
        "outputId": "2364847b-e225-4327-f759-0e895909b5cb"
      },
      "cell_type": "code",
      "source": [
        "from google.colab import drive\n",
        "drive.mount('/gdrive')"
      ],
      "execution_count": 1,
      "outputs": [
        {
          "output_type": "stream",
          "text": [
            "Go to this URL in a browser: https://accounts.google.com/o/oauth2/auth?client_id=947318989803-6bn6qk8qdgf4n4g3pfee6491hc0brc4i.apps.googleusercontent.com&redirect_uri=urn%3Aietf%3Awg%3Aoauth%3A2.0%3Aoob&scope=email%20https%3A%2F%2Fwww.googleapis.com%2Fauth%2Fdocs.test%20https%3A%2F%2Fwww.googleapis.com%2Fauth%2Fdrive%20https%3A%2F%2Fwww.googleapis.com%2Fauth%2Fdrive.photos.readonly%20https%3A%2F%2Fwww.googleapis.com%2Fauth%2Fpeopleapi.readonly&response_type=code\n",
            "\n",
            "Enter your authorization code:\n",
            "··········\n",
            "Mounted at /gdrive\n"
          ],
          "name": "stdout"
        }
      ]
    },
    {
      "metadata": {
        "id": "JlRL_FfBsab1",
        "colab_type": "text"
      },
      "cell_type": "markdown",
      "source": [
        "For using tensorboard in Google Colab"
      ]
    },
    {
      "metadata": {
        "id": "MDV2Q_ZmXZDG",
        "colab_type": "code",
        "colab": {
          "base_uri": "https://localhost:8080/",
          "height": 247
        },
        "outputId": "a35e58af-31b6-46ae-d76f-e8fc8d24004b"
      },
      "cell_type": "code",
      "source": [
        "! wget https://bin.equinox.io/c/4VmDzA7iaHb/ngrok-stable-linux-amd64.zip\n",
        "! unzip ngrok-stable-linux-amd64.zip"
      ],
      "execution_count": 2,
      "outputs": [
        {
          "output_type": "stream",
          "text": [
            "--2019-04-07 05:25:52--  https://bin.equinox.io/c/4VmDzA7iaHb/ngrok-stable-linux-amd64.zip\n",
            "Resolving bin.equinox.io (bin.equinox.io)... 52.72.250.2, 35.173.3.255, 52.55.191.55, ...\n",
            "Connecting to bin.equinox.io (bin.equinox.io)|52.72.250.2|:443... connected.\n",
            "HTTP request sent, awaiting response... 200 OK\n",
            "Length: 14977695 (14M) [application/octet-stream]\n",
            "Saving to: ‘ngrok-stable-linux-amd64.zip’\n",
            "\n",
            "ngrok-stable-linux- 100%[===================>]  14.28M  7.07MB/s    in 2.0s    \n",
            "\n",
            "2019-04-07 05:25:55 (7.07 MB/s) - ‘ngrok-stable-linux-amd64.zip’ saved [14977695/14977695]\n",
            "\n",
            "Archive:  ngrok-stable-linux-amd64.zip\n",
            "  inflating: ngrok                   \n"
          ],
          "name": "stdout"
        }
      ]
    },
    {
      "metadata": {
        "id": "I4cXJ74kXvMm",
        "colab_type": "text"
      },
      "cell_type": "markdown",
      "source": [
        "Setup TensorBoard and get public URL"
      ]
    },
    {
      "metadata": {
        "id": "UAI8esISXuet",
        "colab_type": "code",
        "colab": {
          "base_uri": "https://localhost:8080/",
          "height": 34
        },
        "outputId": "64acf8f9-8b03-45a9-e660-6607131aa4b7"
      },
      "cell_type": "code",
      "source": [
        "LOG_DIR = '/tmp/log'\n",
        "get_ipython().system_raw(\n",
        "    'tensorboard --logdir {} --host 0.0.0.0 --port 6006 &'\n",
        "    .format(LOG_DIR)\n",
        ")\n",
        "\n",
        "# Needed for Google Colab\n",
        "get_ipython().system_raw('./ngrok http 6006 &')\n",
        "! curl -s http://localhost:4040/api/tunnels | python3 -c \\\n",
        "    \"import sys, json; print(json.load(sys.stdin)['tunnels'][0]['public_url'])\""
      ],
      "execution_count": 3,
      "outputs": [
        {
          "output_type": "stream",
          "text": [
            "https://f2e2e67a.ngrok.io\n"
          ],
          "name": "stdout"
        }
      ]
    },
    {
      "metadata": {
        "id": "hHpBNiC_BzNr",
        "colab_type": "text"
      },
      "cell_type": "markdown",
      "source": [
        "# Imports\n",
        "Import necessary packages\n"
      ]
    },
    {
      "metadata": {
        "id": "tMjyyt0HBiQB",
        "colab_type": "code",
        "colab": {
          "base_uri": "https://localhost:8080/",
          "height": 34
        },
        "outputId": "9f84d0da-5e8a-4687-ec88-20f0867b329b"
      },
      "cell_type": "code",
      "source": [
        "from keras.models import Sequential, Model\n",
        "from keras.layers import *\n",
        "from keras.utils import to_categorical\n",
        "import keras\n",
        "import pandas as pd\n",
        "import pickle\n",
        "import matplotlib.pyplot as plt\n",
        "from sklearn.linear_model import LogisticRegression"
      ],
      "execution_count": 4,
      "outputs": [
        {
          "output_type": "stream",
          "text": [
            "Using TensorFlow backend.\n"
          ],
          "name": "stderr"
        }
      ]
    },
    {
      "metadata": {
        "id": "vVbe_xNiB1D_",
        "colab_type": "text"
      },
      "cell_type": "markdown",
      "source": [
        "# Load the data\n",
        "Load the data from the data folder and see their format."
      ]
    },
    {
      "metadata": {
        "id": "rSw_Sl15CnVG",
        "colab_type": "code",
        "colab": {}
      },
      "cell_type": "code",
      "source": [
        "DATA_PATH = '/gdrive/My Drive/Vision_task_dataset_public/'"
      ],
      "execution_count": 0,
      "outputs": []
    },
    {
      "metadata": {
        "id": "amSj7JrtB2RY",
        "colab_type": "code",
        "colab": {}
      },
      "cell_type": "code",
      "source": [
        "train = pickle.load(open(DATA_PATH + 'train_image.pkl', 'rb'))\n",
        "test = pickle.load(open(DATA_PATH + 'test_image.pkl', 'rb'))\n",
        "\n",
        "labels = pickle.load(open(DATA_PATH + 'train_label.pkl', 'rb'))\n",
        "sample_sub = pd.read_csv(DATA_PATH + 'hitkul(sample_submission).csv')"
      ],
      "execution_count": 0,
      "outputs": []
    },
    {
      "metadata": {
        "id": "4w19EU2RC0B1",
        "colab_type": "code",
        "colab": {
          "base_uri": "https://localhost:8080/",
          "height": 34
        },
        "outputId": "f7b72fa1-faed-4c36-cb02-d8ab7ad67dbe"
      },
      "cell_type": "code",
      "source": [
        "print(type(train), type(test), type(labels))"
      ],
      "execution_count": 8,
      "outputs": [
        {
          "output_type": "stream",
          "text": [
            "<class 'list'> <class 'list'> <class 'list'>\n"
          ],
          "name": "stdout"
        }
      ]
    },
    {
      "metadata": {
        "id": "FdpM8erGDRoO",
        "colab_type": "code",
        "colab": {
          "base_uri": "https://localhost:8080/",
          "height": 34
        },
        "outputId": "71616d72-44d4-473b-b821-26e23ffece48"
      },
      "cell_type": "code",
      "source": [
        "print(len(train), len(test), len(labels))"
      ],
      "execution_count": 9,
      "outputs": [
        {
          "output_type": "stream",
          "text": [
            "8000 2000 8000\n"
          ],
          "name": "stdout"
        }
      ]
    },
    {
      "metadata": {
        "id": "sd5mV0c2D1fg",
        "colab_type": "code",
        "colab": {
          "base_uri": "https://localhost:8080/",
          "height": 34
        },
        "outputId": "1a132442-4c39-439a-e57c-9db474e92cad"
      },
      "cell_type": "code",
      "source": [
        "len(train[0])"
      ],
      "execution_count": 10,
      "outputs": [
        {
          "output_type": "execute_result",
          "data": {
            "text/plain": [
              "784"
            ]
          },
          "metadata": {
            "tags": []
          },
          "execution_count": 10
        }
      ]
    },
    {
      "metadata": {
        "id": "_751SpIzETEL",
        "colab_type": "code",
        "colab": {
          "base_uri": "https://localhost:8080/",
          "height": 34
        },
        "outputId": "54bd66e7-19b6-499e-d617-1eac06d3364a"
      },
      "cell_type": "code",
      "source": [
        "set(labels)"
      ],
      "execution_count": 11,
      "outputs": [
        {
          "output_type": "execute_result",
          "data": {
            "text/plain": [
              "{0, 2, 3, 6}"
            ]
          },
          "metadata": {
            "tags": []
          },
          "execution_count": 11
        }
      ]
    },
    {
      "metadata": {
        "id": "pLf7QsVWEFj8",
        "colab_type": "text"
      },
      "cell_type": "markdown",
      "source": [
        "Looks like we have a list of flattened grayscale images, 8000 in train and 2000 in the test. The label for each of them is one of 0, 2, 3, and 6.\n",
        "\n",
        "---\n",
        "Let's first convert the data into numpy arrays."
      ]
    },
    {
      "metadata": {
        "id": "TuMLzYoiFSC_",
        "colab_type": "code",
        "colab": {}
      },
      "cell_type": "code",
      "source": [
        "train = np.array(train)\n",
        "test = np.array(test)\n",
        "labels = np.array(labels)"
      ],
      "execution_count": 0,
      "outputs": []
    },
    {
      "metadata": {
        "id": "E8rRLEqrGtEc",
        "colab_type": "code",
        "colab": {}
      },
      "cell_type": "code",
      "source": [
        "train = train.reshape((len(train), 28, 28))\n",
        "test = test.reshape((len(test), 28, 28))"
      ],
      "execution_count": 0,
      "outputs": []
    },
    {
      "metadata": {
        "id": "b7sXQ4csDzK0",
        "colab_type": "text"
      },
      "cell_type": "markdown",
      "source": [
        "# Analyze the dataset"
      ]
    },
    {
      "metadata": {
        "id": "fDT9jXJBESoI",
        "colab_type": "text"
      },
      "cell_type": "markdown",
      "source": [
        "See a random image"
      ]
    },
    {
      "metadata": {
        "id": "peZgv3aHD9eq",
        "colab_type": "code",
        "colab": {
          "base_uri": "https://localhost:8080/",
          "height": 382
        },
        "outputId": "b7915615-a046-4537-bfe3-3e9a56d6f070"
      },
      "cell_type": "code",
      "source": [
        "idx = 7\n",
        "print(labels[idx])\n",
        "plt.imshow(train[idx], cmap='Greys_r')"
      ],
      "execution_count": 62,
      "outputs": [
        {
          "output_type": "stream",
          "text": [
            "0\n"
          ],
          "name": "stdout"
        },
        {
          "output_type": "execute_result",
          "data": {
            "text/plain": [
              "<matplotlib.image.AxesImage at 0x7efd2aeb7400>"
            ]
          },
          "metadata": {
            "tags": []
          },
          "execution_count": 62
        },
        {
          "output_type": "display_data",
          "data": {
            "image/png": "[encoded data removed]",
            "text/plain": [
              "<Figure size 576x396 with 1 Axes>"
            ]
          },
          "metadata": {
            "tags": []
          }
        }
      ]
    },
    {
      "metadata": {
        "id": "N8OdGwM2GX_6",
        "colab_type": "text"
      },
      "cell_type": "markdown",
      "source": [
        "Looks like fashion MNIST."
      ]
    },
    {
      "metadata": {
        "id": "wERnEsrWHiRu",
        "colab_type": "text"
      },
      "cell_type": "markdown",
      "source": [
        "Classes distribution"
      ]
    },
    {
      "metadata": {
        "id": "CqDLLIhhHi0b",
        "colab_type": "code",
        "colab": {
          "base_uri": "https://localhost:8080/",
          "height": 105
        },
        "outputId": "7b958fc4-c5b8-44cf-bd27-4f269abf8fe1"
      },
      "cell_type": "code",
      "source": [
        "pd.Series(labels).value_counts()"
      ],
      "execution_count": 74,
      "outputs": [
        {
          "output_type": "execute_result",
          "data": {
            "text/plain": [
              "3    2000\n",
              "6    2000\n",
              "2    2000\n",
              "0    2000\n",
              "dtype: int64"
            ]
          },
          "metadata": {
            "tags": []
          },
          "execution_count": 74
        }
      ]
    },
    {
      "metadata": {
        "id": "hx3A62GFL1QO",
        "colab_type": "text"
      },
      "cell_type": "markdown",
      "source": [
        "From above, we can see that the classes are perfectly balanced. So, we don't need to worry about class imbalance."
      ]
    },
    {
      "metadata": {
        "id": "1u6ikG7oL2CJ",
        "colab_type": "text"
      },
      "cell_type": "markdown",
      "source": [
        "# Preprocessing"
      ]
    },
    {
      "metadata": {
        "id": "nUIUgDwRHp6x",
        "colab_type": "text"
      },
      "cell_type": "markdown",
      "source": [
        "We will convert the labels as following for the sake of convenience.\n",
        "\n",
        "Original | New\n",
        "--|--\n",
        "0 |  0\n",
        "2 |  1\n",
        "3 |  2\n",
        "6 |  3"
      ]
    },
    {
      "metadata": {
        "id": "RorTdPlNJrey",
        "colab_type": "code",
        "colab": {}
      },
      "cell_type": "code",
      "source": [
        "def convert_labels(labels, reverse=False):\n",
        "  \"\"\"\n",
        "  Convert labels between original and new formats.\n",
        "  If reverse is True, converts new labels to original labels.\n",
        "  If reverse is False, converts original labels to new labels.\n",
        "  \"\"\"\n",
        "  \n",
        "  if not reverse:\n",
        "    mapping = {0:0, 2:1, 3:2, 6:3}\n",
        "  else:\n",
        "    mapping = {0:0, 1:2, 2:3, 3:6}\n",
        "    \n",
        "  converted = np.array(list(map(lambda x: mapping[x], labels)))\n",
        "  return converted"
      ],
      "execution_count": 0,
      "outputs": []
    },
    {
      "metadata": {
        "id": "hE7xxPv6LteL",
        "colab_type": "code",
        "colab": {}
      },
      "cell_type": "code",
      "source": [
        "labels = convert_labels(labels)"
      ],
      "execution_count": 0,
      "outputs": []
    },
    {
      "metadata": {
        "id": "OwVY5iHIt1qA",
        "colab_type": "text"
      },
      "cell_type": "markdown",
      "source": [
        "Normalize image pixel values"
      ]
    },
    {
      "metadata": {
        "id": "R-xhb8oEPDdG",
        "colab_type": "code",
        "colab": {}
      },
      "cell_type": "code",
      "source": [
        "train_norm = train / 255\n",
        "test_norm = test / 255"
      ],
      "execution_count": 0,
      "outputs": []
    },
    {
      "metadata": {
        "id": "FGiFp7k6Gd6Z",
        "colab_type": "text"
      },
      "cell_type": "markdown",
      "source": [
        "# Model"
      ]
    },
    {
      "metadata": {
        "id": "RlKqpZeN-JgW",
        "colab_type": "text"
      },
      "cell_type": "markdown",
      "source": [
        "## Wide Residual Network\n",
        "&lt;This produced the best result>"
      ]
    },
    {
      "metadata": {
        "id": "ZQDgkVEB-fUz",
        "colab_type": "text"
      },
      "cell_type": "markdown",
      "source": [
        "Implementation of [Wide Residual Networks (Zagoruyko  et. al. 2016)](https://arxiv.org/abs/1605.07146)"
      ]
    },
    {
      "metadata": {
        "id": "yEKJRHGH-NFc",
        "colab_type": "code",
        "colab": {}
      },
      "cell_type": "code",
      "source": [
        "def main_block(x, filters, n, strides, dropout):\n",
        "\t# Normal part\n",
        "\tx_res = Conv2D(filters, (3,3), strides=strides, padding=\"same\")(x) # , kernel_regularizer=keras.regularizers.l2(5e-4)\n",
        "\tx_res = BatchNormalization()(x_res)\n",
        "\tx_res = Activation('relu')(x_res)\n",
        "\tx_res = Conv2D(filters, (3,3), padding=\"same\")(x_res)\n",
        "\t# Alternative branch\n",
        "\tx = Conv2D(filters, (1,1), strides=strides)(x)\n",
        "\t# Merge Branches\n",
        "\tx = Add()([x_res, x])\n",
        "\n",
        "\tfor i in range(n-1):\n",
        "\t\t# Residual conection\n",
        "\t\tx_res = BatchNormalization()(x)\n",
        "\t\tx_res = Activation('relu')(x_res)\n",
        "\t\tx_res = Conv2D(filters, (3,3), padding=\"same\")(x_res)\n",
        "\t\t# Apply dropout if given\n",
        "\t\tif dropout: x_res = Dropout(dropout)(x)\n",
        "\t\t# Second part\n",
        "\t\tx_res = BatchNormalization()(x_res)\n",
        "\t\tx_res = Activation('relu')(x_res)\n",
        "\t\tx_res = Conv2D(filters, (3,3), padding=\"same\")(x_res)\n",
        "\t\t# Merge branches\n",
        "\t\tx = Add()([x, x_res])\n",
        "\n",
        "\t# Inter block part\n",
        "\tx = BatchNormalization()(x)\n",
        "\tx = Activation('relu')(x)\n",
        "\treturn x\n",
        "\n",
        "def build_model(input_dims, output_dim, n, k, act= \"relu\", dropout=None):\n",
        "\t\"\"\" Builds the model. Params:\n",
        "\t\t\t- n: number of layers. WRNs are of the form WRN-N-K\n",
        "\t\t\t\t It must satisfy that (N-4)%6 = 0\n",
        "\t\t\t- k: Widening factor. WRNs are of the form WRN-N-K\n",
        "\t\t\t\t It must satisfy that K%2 = 0\n",
        "\t\t\t- input_dims: input dimensions for the model\n",
        "\t\t\t- output_dim: output dimensions for the model\n",
        "\t\t\t- dropout: dropout rate - default=0 (not recomended >0.3)\n",
        "\t\t\t- act: activation function - default=relu. Build your custom\n",
        "\t\t\t\t   one with keras.backend (ex: swish, e-swish)\n",
        "\t\"\"\"\n",
        "\t# Ensure n & k are correct\n",
        "\tassert (n-4)%6 == 0\n",
        "\tassert k%2 == 0\n",
        "\tn = (n-4)//6 \n",
        "\t# This returns a tensor input to the model\n",
        "\tinputs = Input(shape=(input_dims))\n",
        "\n",
        "\t# Head of the model\n",
        "\tx = Conv2D(16, (3,3), padding=\"same\")(inputs)\n",
        "\tx = BatchNormalization()(x)\n",
        "\tx = Activation('relu')(x)\n",
        "\n",
        "\t# 3 Blocks (normal-residual)\n",
        "\tx = main_block(x, 8*k, n, (1,1), dropout) # 0\n",
        "\tx = main_block(x, 16*k, n, (2,2), dropout) # 1\n",
        "# \tx = main_block(x, 32*k, n, (2,2), dropout) # 2\n",
        "\t\t\t\n",
        "\t# Final part of the model\n",
        "\tx = AveragePooling2D((8,8))(x)\n",
        "\tx = Flatten()(x)\n",
        "\toutputs = Dense(output_dim, activation='softmax')(x)  #, activation=\"softmax\")(x)\n",
        "\n",
        "\tmodel = Model(inputs=inputs, outputs=outputs)\n",
        "\treturn model"
      ],
      "execution_count": 0,
      "outputs": []
    },
    {
      "metadata": {
        "id": "dViePz8Y-M4X",
        "colab_type": "code",
        "colab": {
          "base_uri": "https://localhost:8080/",
          "height": 994
        },
        "outputId": "1eea403c-2238-4fa7-9791-b7712cc659fe"
      },
      "cell_type": "code",
      "source": [
        "model = build_model((28, 28, 1), 4, 10, 4)\n",
        "opt = 'adam'\n",
        "epochs = 25\n",
        "model_name = 'WRN'\n",
        "model.summary()"
      ],
      "execution_count": 97,
      "outputs": [
        {
          "output_type": "stream",
          "text": [
            "__________________________________________________________________________________________________\n",
            "Layer (type)                    Output Shape         Param #     Connected to                     \n",
            "==================================================================================================\n",
            "input_12 (InputLayer)           (None, 28, 28, 1)    0                                            \n",
            "__________________________________________________________________________________________________\n",
            "conv2d_93 (Conv2D)              (None, 28, 28, 16)   160         input_12[0][0]                   \n",
            "__________________________________________________________________________________________________\n",
            "batch_normalization_66 (BatchNo (None, 28, 28, 16)   64          conv2d_93[0][0]                  \n",
            "__________________________________________________________________________________________________\n",
            "activation_66 (Activation)      (None, 28, 28, 16)   0           batch_normalization_66[0][0]     \n",
            "__________________________________________________________________________________________________\n",
            "conv2d_94 (Conv2D)              (None, 28, 28, 64)   9280        activation_66[0][0]              \n",
            "__________________________________________________________________________________________________\n",
            "batch_normalization_67 (BatchNo (None, 28, 28, 64)   256         conv2d_94[0][0]                  \n",
            "__________________________________________________________________________________________________\n",
            "activation_67 (Activation)      (None, 28, 28, 64)   0           batch_normalization_67[0][0]     \n",
            "__________________________________________________________________________________________________\n",
            "conv2d_95 (Conv2D)              (None, 28, 28, 64)   36928       activation_67[0][0]              \n",
            "__________________________________________________________________________________________________\n",
            "conv2d_96 (Conv2D)              (None, 28, 28, 64)   1088        activation_66[0][0]              \n",
            "__________________________________________________________________________________________________\n",
            "add_28 (Add)                    (None, 28, 28, 64)   0           conv2d_95[0][0]                  \n",
            "                                                                 conv2d_96[0][0]                  \n",
            "__________________________________________________________________________________________________\n",
            "batch_normalization_68 (BatchNo (None, 28, 28, 64)   256         add_28[0][0]                     \n",
            "__________________________________________________________________________________________________\n",
            "activation_68 (Activation)      (None, 28, 28, 64)   0           batch_normalization_68[0][0]     \n",
            "__________________________________________________________________________________________________\n",
            "conv2d_97 (Conv2D)              (None, 14, 14, 64)   36928       activation_68[0][0]              \n",
            "__________________________________________________________________________________________________\n",
            "batch_normalization_69 (BatchNo (None, 14, 14, 64)   256         conv2d_97[0][0]                  \n",
            "__________________________________________________________________________________________________\n",
            "activation_69 (Activation)      (None, 14, 14, 64)   0           batch_normalization_69[0][0]     \n",
            "__________________________________________________________________________________________________\n",
            "conv2d_98 (Conv2D)              (None, 14, 14, 64)   36928       activation_69[0][0]              \n",
            "__________________________________________________________________________________________________\n",
            "conv2d_99 (Conv2D)              (None, 14, 14, 64)   4160        activation_68[0][0]              \n",
            "__________________________________________________________________________________________________\n",
            "add_29 (Add)                    (None, 14, 14, 64)   0           conv2d_98[0][0]                  \n",
            "                                                                 conv2d_99[0][0]                  \n",
            "__________________________________________________________________________________________________\n",
            "batch_normalization_70 (BatchNo (None, 14, 14, 64)   256         add_29[0][0]                     \n",
            "__________________________________________________________________________________________________\n",
            "activation_70 (Activation)      (None, 14, 14, 64)   0           batch_normalization_70[0][0]     \n",
            "__________________________________________________________________________________________________\n",
            "average_pooling2d_12 (AveragePo (None, 1, 1, 64)     0           activation_70[0][0]              \n",
            "__________________________________________________________________________________________________\n",
            "flatten_7 (Flatten)             (None, 64)           0           average_pooling2d_12[0][0]       \n",
            "__________________________________________________________________________________________________\n",
            "dense_7 (Dense)                 (None, 4)            260         flatten_7[0][0]                  \n",
            "==================================================================================================\n",
            "Total params: 126,820\n",
            "Trainable params: 126,276\n",
            "Non-trainable params: 544\n",
            "__________________________________________________________________________________________________\n"
          ],
          "name": "stdout"
        }
      ]
    },
    {
      "metadata": {
        "id": "g2uOgRwMlOaW",
        "colab_type": "text"
      },
      "cell_type": "markdown",
      "source": [
        "## Mini VGG\n",
        "&lt;Didn't work very well>"
      ]
    },
    {
      "metadata": {
        "id": "ypkuKqT3lRqs",
        "colab_type": "code",
        "colab": {
          "base_uri": "https://localhost:8080/",
          "height": 1012
        },
        "outputId": "5aed65e7-0ad6-4549-f4ea-fb82728afd27"
      },
      "cell_type": "code",
      "source": [
        "model = Sequential()\n",
        "\n",
        "model.add(Conv2D(16, (3, 3), padding='same', input_shape=(28, 28, 1)))\n",
        "model.add(Activation('relu'))\n",
        "model.add(BatchNormalization())\n",
        "model.add(Conv2D(16, (3, 3), padding='same'))\n",
        "model.add(Activation('relu'))\n",
        "model.add(BatchNormalization())\n",
        "\n",
        "model.add(MaxPool2D((2, 2)))\n",
        "model.add(Dropout(0.25))\n",
        "\n",
        "model.add(Conv2D(32, (3, 3), padding='same', input_shape=(28, 28, 1)))\n",
        "model.add(Activation('relu'))\n",
        "model.add(BatchNormalization())\n",
        "model.add(Conv2D(32, (3, 3), padding='same'))\n",
        "model.add(Activation('relu'))\n",
        "model.add(BatchNormalization())\n",
        "\n",
        "model.add(MaxPool2D((2, 2)))\n",
        "model.add(Dropout(0.25))\n",
        "\n",
        "model.add(Flatten())\n",
        "model.add(Dense(512))\n",
        "model.add(Activation('relu'))\n",
        "model.add(BatchNormalization())\n",
        "model.add(Dropout(0.5))\n",
        "\n",
        "model.add(Dense(4))\n",
        "model.add(Activation('softmax'))\n",
        "\n",
        "model.summary()"
      ],
      "execution_count": 30,
      "outputs": [
        {
          "output_type": "stream",
          "text": [
            "WARNING:tensorflow:From /usr/local/lib/python3.6/dist-packages/keras/backend/tensorflow_backend.py:3445: calling dropout (from tensorflow.python.ops.nn_ops) with keep_prob is deprecated and will be removed in a future version.\n",
            "Instructions for updating:\n",
            "Please use `rate` instead of `keep_prob`. Rate should be set to `rate = 1 - keep_prob`.\n",
            "_________________________________________________________________\n",
            "Layer (type)                 Output Shape              Param #   \n",
            "=================================================================\n",
            "conv2d_25 (Conv2D)           (None, 28, 28, 32)        320       \n",
            "_________________________________________________________________\n",
            "activation_9 (Activation)    (None, 28, 28, 32)        0         \n",
            "_________________________________________________________________\n",
            "batch_normalization_9 (Batch (None, 28, 28, 32)        128       \n",
            "_________________________________________________________________\n",
            "conv2d_26 (Conv2D)           (None, 28, 28, 32)        9248      \n",
            "_________________________________________________________________\n",
            "activation_10 (Activation)   (None, 28, 28, 32)        0         \n",
            "_________________________________________________________________\n",
            "batch_normalization_10 (Batc (None, 28, 28, 32)        128       \n",
            "_________________________________________________________________\n",
            "max_pooling2d_9 (MaxPooling2 (None, 14, 14, 32)        0         \n",
            "_________________________________________________________________\n",
            "dropout_1 (Dropout)          (None, 14, 14, 32)        0         \n",
            "_________________________________________________________________\n",
            "conv2d_27 (Conv2D)           (None, 14, 14, 64)        18496     \n",
            "_________________________________________________________________\n",
            "activation_11 (Activation)   (None, 14, 14, 64)        0         \n",
            "_________________________________________________________________\n",
            "batch_normalization_11 (Batc (None, 14, 14, 64)        256       \n",
            "_________________________________________________________________\n",
            "conv2d_28 (Conv2D)           (None, 14, 14, 64)        36928     \n",
            "_________________________________________________________________\n",
            "activation_12 (Activation)   (None, 14, 14, 64)        0         \n",
            "_________________________________________________________________\n",
            "batch_normalization_12 (Batc (None, 14, 14, 64)        256       \n",
            "_________________________________________________________________\n",
            "max_pooling2d_10 (MaxPooling (None, 7, 7, 64)          0         \n",
            "_________________________________________________________________\n",
            "dropout_2 (Dropout)          (None, 7, 7, 64)          0         \n",
            "_________________________________________________________________\n",
            "flatten_5 (Flatten)          (None, 3136)              0         \n",
            "_________________________________________________________________\n",
            "dense_5 (Dense)              (None, 512)               1606144   \n",
            "_________________________________________________________________\n",
            "activation_13 (Activation)   (None, 512)               0         \n",
            "_________________________________________________________________\n",
            "batch_normalization_13 (Batc (None, 512)               2048      \n",
            "_________________________________________________________________\n",
            "dropout_3 (Dropout)          (None, 512)               0         \n",
            "_________________________________________________________________\n",
            "dense_6 (Dense)              (None, 4)                 2052      \n",
            "_________________________________________________________________\n",
            "activation_14 (Activation)   (None, 4)                 0         \n",
            "=================================================================\n",
            "Total params: 1,676,004\n",
            "Trainable params: 1,674,596\n",
            "Non-trainable params: 1,408\n",
            "_________________________________________________________________\n"
          ],
          "name": "stdout"
        }
      ]
    },
    {
      "metadata": {
        "id": "WIOP_cSElRl9",
        "colab_type": "code",
        "colab": {}
      },
      "cell_type": "code",
      "source": [
        "lr = 1e-2\n",
        "opt = keras.optimizers.SGD(lr=lr, momentum=0.9, decay=lr/epochs)\n",
        "epochs = 25\n",
        "model_name = 'mini_VGG'"
      ],
      "execution_count": 0,
      "outputs": []
    },
    {
      "metadata": {
        "id": "Lp3cuyAVlHfp",
        "colab_type": "text"
      },
      "cell_type": "markdown",
      "source": [
        "## Small Residual Network\n",
        "&lt;Didn't work very well>"
      ]
    },
    {
      "metadata": {
        "id": "MxFQOpZpd1Az",
        "colab_type": "code",
        "colab": {}
      },
      "cell_type": "code",
      "source": [
        "def residual_block(inp, filters, kernel_size):\n",
        "  x = Conv2D(filters, kernel_size, padding='same')(inp)\n",
        "  x = Conv2D(filters, kernel_size, padding='same')(x)\n",
        "  x = BatchNormalization()(x)\n",
        "  x = Activation('relu')(x)\n",
        "\n",
        "  inp_res = Conv2D(filters, (1, 1), padding='same')(inp)\n",
        "  x = Add()([x, inp_res])\n",
        "  \n",
        "  return x"
      ],
      "execution_count": 0,
      "outputs": []
    },
    {
      "metadata": {
        "id": "M1iBCnFaFKJU",
        "colab_type": "code",
        "colab": {
          "base_uri": "https://localhost:8080/",
          "height": 1136
        },
        "outputId": "863432d5-7592-4362-a80e-556dc3d7efed"
      },
      "cell_type": "code",
      "source": [
        "# model = Sequential()\n",
        "\n",
        "inp = Input((28, 28, 1))\n",
        "\n",
        "x = residual_block(inp, 8, (3, 3))\n",
        "x = MaxPool2D((2, 2))(x)\n",
        "\n",
        "x = residual_block(x, 16, (3, 3))\n",
        "x = MaxPool2D((2, 2))(x)\n",
        "\n",
        "x = residual_block(x, 32, (3, 3))\n",
        "x = MaxPool2D((2, 2))(x)\n",
        "\n",
        "# x = Flatten()(x)\n",
        "x = GlobalAveragePooling2D()(x)\n",
        "x = Activation('relu')(x)\n",
        "# model.add(Dense(30, activation='relu'))\n",
        "out = Dense(4, activation='softmax')(x)\n",
        "\n",
        "model = Model(inp, out)\n",
        "\n",
        "model.summary()"
      ],
      "execution_count": 18,
      "outputs": [
        {
          "output_type": "stream",
          "text": [
            "WARNING:tensorflow:From /usr/local/lib/python3.6/dist-packages/tensorflow/python/framework/op_def_library.py:263: colocate_with (from tensorflow.python.framework.ops) is deprecated and will be removed in a future version.\n",
            "Instructions for updating:\n",
            "Colocations handled automatically by placer.\n",
            "__________________________________________________________________________________________________\n",
            "Layer (type)                    Output Shape         Param #     Connected to                     \n",
            "==================================================================================================\n",
            "input_2 (InputLayer)            (None, 28, 28, 1)    0                                            \n",
            "__________________________________________________________________________________________________\n",
            "conv2d_1 (Conv2D)               (None, 28, 28, 8)    80          input_2[0][0]                    \n",
            "__________________________________________________________________________________________________\n",
            "conv2d_2 (Conv2D)               (None, 28, 28, 8)    584         conv2d_1[0][0]                   \n",
            "__________________________________________________________________________________________________\n",
            "batch_normalization_1 (BatchNor (None, 28, 28, 8)    32          conv2d_2[0][0]                   \n",
            "__________________________________________________________________________________________________\n",
            "activation_1 (Activation)       (None, 28, 28, 8)    0           batch_normalization_1[0][0]      \n",
            "__________________________________________________________________________________________________\n",
            "conv2d_3 (Conv2D)               (None, 28, 28, 8)    16          input_2[0][0]                    \n",
            "__________________________________________________________________________________________________\n",
            "add_1 (Add)                     (None, 28, 28, 8)    0           activation_1[0][0]               \n",
            "                                                                 conv2d_3[0][0]                   \n",
            "__________________________________________________________________________________________________\n",
            "max_pooling2d_1 (MaxPooling2D)  (None, 14, 14, 8)    0           add_1[0][0]                      \n",
            "__________________________________________________________________________________________________\n",
            "conv2d_4 (Conv2D)               (None, 14, 14, 16)   1168        max_pooling2d_1[0][0]            \n",
            "__________________________________________________________________________________________________\n",
            "conv2d_5 (Conv2D)               (None, 14, 14, 16)   2320        conv2d_4[0][0]                   \n",
            "__________________________________________________________________________________________________\n",
            "batch_normalization_2 (BatchNor (None, 14, 14, 16)   64          conv2d_5[0][0]                   \n",
            "__________________________________________________________________________________________________\n",
            "activation_2 (Activation)       (None, 14, 14, 16)   0           batch_normalization_2[0][0]      \n",
            "__________________________________________________________________________________________________\n",
            "conv2d_6 (Conv2D)               (None, 14, 14, 16)   144         max_pooling2d_1[0][0]            \n",
            "__________________________________________________________________________________________________\n",
            "add_2 (Add)                     (None, 14, 14, 16)   0           activation_2[0][0]               \n",
            "                                                                 conv2d_6[0][0]                   \n",
            "__________________________________________________________________________________________________\n",
            "max_pooling2d_2 (MaxPooling2D)  (None, 7, 7, 16)     0           add_2[0][0]                      \n",
            "__________________________________________________________________________________________________\n",
            "conv2d_7 (Conv2D)               (None, 7, 7, 32)     4640        max_pooling2d_2[0][0]            \n",
            "__________________________________________________________________________________________________\n",
            "conv2d_8 (Conv2D)               (None, 7, 7, 32)     9248        conv2d_7[0][0]                   \n",
            "__________________________________________________________________________________________________\n",
            "batch_normalization_3 (BatchNor (None, 7, 7, 32)     128         conv2d_8[0][0]                   \n",
            "__________________________________________________________________________________________________\n",
            "activation_3 (Activation)       (None, 7, 7, 32)     0           batch_normalization_3[0][0]      \n",
            "__________________________________________________________________________________________________\n",
            "conv2d_9 (Conv2D)               (None, 7, 7, 32)     544         max_pooling2d_2[0][0]            \n",
            "__________________________________________________________________________________________________\n",
            "add_3 (Add)                     (None, 7, 7, 32)     0           activation_3[0][0]               \n",
            "                                                                 conv2d_9[0][0]                   \n",
            "__________________________________________________________________________________________________\n",
            "max_pooling2d_3 (MaxPooling2D)  (None, 3, 3, 32)     0           add_3[0][0]                      \n",
            "__________________________________________________________________________________________________\n",
            "global_average_pooling2d_1 (Glo (None, 32)           0           max_pooling2d_3[0][0]            \n",
            "__________________________________________________________________________________________________\n",
            "activation_4 (Activation)       (None, 32)           0           global_average_pooling2d_1[0][0] \n",
            "__________________________________________________________________________________________________\n",
            "dense_1 (Dense)                 (None, 4)            132         activation_4[0][0]               \n",
            "==================================================================================================\n",
            "Total params: 19,100\n",
            "Trainable params: 18,988\n",
            "Non-trainable params: 112\n",
            "__________________________________________________________________________________________________\n"
          ],
          "name": "stdout"
        }
      ]
    },
    {
      "metadata": {
        "id": "3Uy539lI2pFC",
        "colab_type": "code",
        "colab": {}
      },
      "cell_type": "code",
      "source": [
        "model_name = 'custom_residual'\n",
        "opt = 'adam'\n",
        "epochs = 20"
      ],
      "execution_count": 0,
      "outputs": []
    },
    {
      "metadata": {
        "id": "ozzU3IPhlSQY",
        "colab_type": "text"
      },
      "cell_type": "markdown",
      "source": [
        "## Compile the model, set callbacks and fit the model"
      ]
    },
    {
      "metadata": {
        "id": "5pTB-rkkMV76",
        "colab_type": "code",
        "colab": {}
      },
      "cell_type": "code",
      "source": [
        "model.compile(opt, 'categorical_crossentropy', metrics=['acc'])"
      ],
      "execution_count": 0,
      "outputs": []
    },
    {
      "metadata": {
        "id": "zg28GXy2XKTo",
        "colab_type": "text"
      },
      "cell_type": "markdown",
      "source": [
        "Tensorboard Callback"
      ]
    },
    {
      "metadata": {
        "id": "I-IR5IDm59AU",
        "colab_type": "code",
        "colab": {}
      },
      "cell_type": "code",
      "source": [
        "tboard = keras.callbacks.TensorBoard(\n",
        "    log_dir=LOG_DIR,\n",
        "    histogram_freq=0,\n",
        "    batch_size=32,\n",
        "    write_graph=True,\n",
        "    write_grads=False,\n",
        "    write_images=False,\n",
        "    embeddings_freq=0,\n",
        "    embeddings_layer_names=None,\n",
        "    embeddings_metadata=None, \n",
        "    embeddings_data=None, \n",
        "    update_freq='batch'\n",
        ")\n"
      ],
      "execution_count": 0,
      "outputs": []
    },
    {
      "metadata": {
        "id": "TvmGrZ3VNgCy",
        "colab_type": "text"
      },
      "cell_type": "markdown",
      "source": [
        "Model Checkpointing Callback"
      ]
    },
    {
      "metadata": {
        "id": "wD0Iru3lMi7a",
        "colab_type": "code",
        "colab": {}
      },
      "cell_type": "code",
      "source": [
        "model_name = \"Model.\" + model_name + \".val-acc={val_acc:.2f}.val-loss={val_loss:.2f}.h5\"\n",
        "ckpt = keras.callbacks.ModelCheckpoint(\n",
        "                  model_name,\n",
        "                  monitor='val_loss',\n",
        "                  verbose=0,\n",
        "                  save_best_only=True,\n",
        "                  save_weights_only=False,\n",
        "                  mode='auto',\n",
        "                  period=1\n",
        ")"
      ],
      "execution_count": 0,
      "outputs": []
    },
    {
      "metadata": {
        "id": "X9cmQhVqNvCf",
        "colab_type": "text"
      },
      "cell_type": "markdown",
      "source": [
        "Convert labels to one-hot encoding and train the model."
      ]
    },
    {
      "metadata": {
        "id": "QjgHEZhZklA5",
        "colab_type": "code",
        "colab": {}
      },
      "cell_type": "code",
      "source": [
        "# Clean Tensorboard logging directory before training if needed\n",
        "!rm -r /tmp/log"
      ],
      "execution_count": 0,
      "outputs": []
    },
    {
      "metadata": {
        "id": "Apj8J4n2NmI2",
        "colab_type": "code",
        "colab": {}
      },
      "cell_type": "code",
      "source": [
        "labels_one_hot = to_categorical(labels)\n",
        "\n",
        "model.fit(\n",
        "    train_norm[..., None],\n",
        "    labels_one_hot,\n",
        "    validation_split=0.2,\n",
        "    shuffle=True,\n",
        "    callbacks=[ckpt, tboard],\n",
        "    epochs = epochs,\n",
        "    batch_size=32\n",
        ")"
      ],
      "execution_count": 0,
      "outputs": []
    },
    {
      "metadata": {
        "id": "dwClYC6Xgxsk",
        "colab_type": "text"
      },
      "cell_type": "markdown",
      "source": [
        "# Predict for the test data and generate submission"
      ]
    },
    {
      "metadata": {
        "id": "J3UPjoiQsCS7",
        "colab_type": "text"
      },
      "cell_type": "markdown",
      "source": [
        "## Ensemble best 3 models"
      ]
    },
    {
      "metadata": {
        "id": "hqM_O-JIg3Pz",
        "colab_type": "text"
      },
      "cell_type": "markdown",
      "source": [
        "Load the best 3 models and ensemble their predictions"
      ]
    },
    {
      "metadata": {
        "id": "j7jcpBj_NmGv",
        "colab_type": "code",
        "colab": {}
      },
      "cell_type": "code",
      "source": [
        "model1 = keras.models.load_model('Model.WRN.val-acc=0.87.val-loss=0.33.h5')\n",
        "model2 = keras.models.load_model('Model.WRN.val-acc=0.82.val-loss=0.42.h5')\n",
        "model3 = keras.models.load_model('Model.WRN.val-acc=0.76.val-loss=0.57.h5')"
      ],
      "execution_count": 0,
      "outputs": []
    },
    {
      "metadata": {
        "id": "eK6PAUs2To4G",
        "colab_type": "code",
        "colab": {}
      },
      "cell_type": "code",
      "source": [
        "pred1 = np.argmax(model1.predict(train_norm[..., None]), axis=1)\n",
        "pred2 = np.argmax(model2.predict(train_norm[..., None]), axis=1)\n",
        "pred3 = np.argmax(model3.predict(train_norm[..., None]), axis=1)\n",
        "preds = np.hstack([pred1[:, None], pred2[:, None], pred3[:, None]])"
      ],
      "execution_count": 0,
      "outputs": []
    },
    {
      "metadata": {
        "id": "3aeSySwhsoNB",
        "colab_type": "text"
      },
      "cell_type": "markdown",
      "source": [
        "Fit a logistic regression model"
      ]
    },
    {
      "metadata": {
        "id": "fhpomelwiqIQ",
        "colab_type": "code",
        "colab": {
          "base_uri": "https://localhost:8080/",
          "height": 52
        },
        "outputId": "315a6fcd-5b34-4f34-981c-872fc5548352"
      },
      "cell_type": "code",
      "source": [
        "reg = LogisticRegression(solver='lbfgs').fit(preds, labels)"
      ],
      "execution_count": 161,
      "outputs": [
        {
          "output_type": "stream",
          "text": [
            "/usr/local/lib/python3.6/dist-packages/sklearn/linear_model/logistic.py:460: FutureWarning: Default multi_class will be changed to 'auto' in 0.22. Specify the multi_class option to silence this warning.\n",
            "  \"this warning.\", FutureWarning)\n"
          ],
          "name": "stderr"
        }
      ]
    },
    {
      "metadata": {
        "id": "XJ8w43eEjhkk",
        "colab_type": "code",
        "colab": {
          "base_uri": "https://localhost:8080/",
          "height": 34
        },
        "outputId": "3cb96a06-46ad-47da-9fc5-c8d4d747f94b"
      },
      "cell_type": "code",
      "source": [
        "reg.score(preds, labels)"
      ],
      "execution_count": 162,
      "outputs": [
        {
          "output_type": "execute_result",
          "data": {
            "text/plain": [
              "0.858"
            ]
          },
          "metadata": {
            "tags": []
          },
          "execution_count": 162
        }
      ]
    },
    {
      "metadata": {
        "id": "w5AdeanUpJzj",
        "colab_type": "text"
      },
      "cell_type": "markdown",
      "source": [
        "So, our ensemble achieves 85.8 % on the train data."
      ]
    },
    {
      "metadata": {
        "id": "ScneE4H_pEjv",
        "colab_type": "text"
      },
      "cell_type": "markdown",
      "source": [
        "## Predict for the test data"
      ]
    },
    {
      "metadata": {
        "id": "5fFoV6SmpD8Z",
        "colab_type": "code",
        "colab": {}
      },
      "cell_type": "code",
      "source": [
        "pred1 = np.argmax(model1.predict(test_norm[..., None]), axis=1)\n",
        "pred2 = np.argmax(model2.predict(test_norm[..., None]), axis=1)\n",
        "pred3 = np.argmax(model3.predict(test_norm[..., None]), axis=1)\n",
        "preds = np.hstack([pred1[:, None], pred2[:, None], pred3[:, None]])"
      ],
      "execution_count": 0,
      "outputs": []
    },
    {
      "metadata": {
        "id": "mXO8yOYbphpG",
        "colab_type": "code",
        "colab": {}
      },
      "cell_type": "code",
      "source": [
        "final_pred = reg.predict(preds)"
      ],
      "execution_count": 0,
      "outputs": []
    },
    {
      "metadata": {
        "id": "bFriKOTpptT1",
        "colab_type": "text"
      },
      "cell_type": "markdown",
      "source": [
        "Convert labels back to the original format"
      ]
    },
    {
      "metadata": {
        "id": "yOxs18kGpqBY",
        "colab_type": "code",
        "colab": {}
      },
      "cell_type": "code",
      "source": [
        "final_pred = convert_labels(final_pred, reverse=True)"
      ],
      "execution_count": 0,
      "outputs": []
    },
    {
      "metadata": {
        "id": "zy_HolA7qNN_",
        "colab_type": "text"
      },
      "cell_type": "markdown",
      "source": [
        "Create the predictions `CSV` according to the sample submission format given."
      ]
    },
    {
      "metadata": {
        "id": "_QhTpegXp0vV",
        "colab_type": "code",
        "colab": {
          "base_uri": "https://localhost:8080/",
          "height": 167
        },
        "outputId": "1ff8bafc-1cc2-4cec-dcf2-f575aafb6920"
      },
      "cell_type": "code",
      "source": [
        "sample_sub"
      ],
      "execution_count": 175,
      "outputs": [
        {
          "output_type": "execute_result",
          "data": {
            "text/html": [
              "<div>\n",
              "<style scoped>\n",
              "    .dataframe tbody tr th:only-of-type {\n",
              "        vertical-align: middle;\n",
              "    }\n",
              "\n",
              "    .dataframe tbody tr th {\n",
              "        vertical-align: top;\n",
              "    }\n",
              "\n",
              "    .dataframe thead th {\n",
              "        text-align: right;\n",
              "    }\n",
              "</style>\n",
              "<table border=\"1\" class=\"dataframe\">\n",
              "  <thead>\n",
              "    <tr style=\"text-align: right;\">\n",
              "      <th></th>\n",
              "      <th>image_index</th>\n",
              "      <th>class</th>\n",
              "    </tr>\n",
              "  </thead>\n",
              "  <tbody>\n",
              "    <tr>\n",
              "      <th>0</th>\n",
              "      <td>0</td>\n",
              "      <td>2</td>\n",
              "    </tr>\n",
              "    <tr>\n",
              "      <th>1</th>\n",
              "      <td>1</td>\n",
              "      <td>3</td>\n",
              "    </tr>\n",
              "    <tr>\n",
              "      <th>2</th>\n",
              "      <td>2</td>\n",
              "      <td>0</td>\n",
              "    </tr>\n",
              "    <tr>\n",
              "      <th>3</th>\n",
              "      <td>3</td>\n",
              "      <td>6</td>\n",
              "    </tr>\n",
              "  </tbody>\n",
              "</table>\n",
              "</div>"
            ],
            "text/plain": [
              "   image_index  class\n",
              "0            0      2\n",
              "1            1      3\n",
              "2            2      0\n",
              "3            3      6"
            ]
          },
          "metadata": {
            "tags": []
          },
          "execution_count": 175
        }
      ]
    },
    {
      "metadata": {
        "id": "DWMCp94GqMg6",
        "colab_type": "code",
        "colab": {}
      },
      "cell_type": "code",
      "source": [
        "pred = pd.DataFrame(np.hstack([np.arange(len(test))[:, None], final_pred[:, None]]), columns=sample_sub.columns)"
      ],
      "execution_count": 0,
      "outputs": []
    },
    {
      "metadata": {
        "id": "XiWMjzNYrRwf",
        "colab_type": "code",
        "colab": {
          "base_uri": "https://localhost:8080/",
          "height": 105
        },
        "outputId": "be7a86cf-9a2c-4d9a-dd79-2521d4e4ad65"
      },
      "cell_type": "code",
      "source": [
        "pred['class'].value_counts()"
      ],
      "execution_count": 188,
      "outputs": [
        {
          "output_type": "execute_result",
          "data": {
            "text/plain": [
              "0    534\n",
              "2    514\n",
              "6    510\n",
              "3    442\n",
              "Name: class, dtype: int64"
            ]
          },
          "metadata": {
            "tags": []
          },
          "execution_count": 188
        }
      ]
    },
    {
      "metadata": {
        "id": "CaIW0Zs4ri76",
        "colab_type": "code",
        "colab": {
          "base_uri": "https://localhost:8080/",
          "height": 197
        },
        "outputId": "3735f0a9-a965-4c4c-d5da-f6efa865c1c2"
      },
      "cell_type": "code",
      "source": [
        "pred.head()"
      ],
      "execution_count": 189,
      "outputs": [
        {
          "output_type": "execute_result",
          "data": {
            "text/html": [
              "<div>\n",
              "<style scoped>\n",
              "    .dataframe tbody tr th:only-of-type {\n",
              "        vertical-align: middle;\n",
              "    }\n",
              "\n",
              "    .dataframe tbody tr th {\n",
              "        vertical-align: top;\n",
              "    }\n",
              "\n",
              "    .dataframe thead th {\n",
              "        text-align: right;\n",
              "    }\n",
              "</style>\n",
              "<table border=\"1\" class=\"dataframe\">\n",
              "  <thead>\n",
              "    <tr style=\"text-align: right;\">\n",
              "      <th></th>\n",
              "      <th>image_index</th>\n",
              "      <th>class</th>\n",
              "    </tr>\n",
              "  </thead>\n",
              "  <tbody>\n",
              "    <tr>\n",
              "      <th>0</th>\n",
              "      <td>0</td>\n",
              "      <td>0</td>\n",
              "    </tr>\n",
              "    <tr>\n",
              "      <th>1</th>\n",
              "      <td>1</td>\n",
              "      <td>6</td>\n",
              "    </tr>\n",
              "    <tr>\n",
              "      <th>2</th>\n",
              "      <td>2</td>\n",
              "      <td>0</td>\n",
              "    </tr>\n",
              "    <tr>\n",
              "      <th>3</th>\n",
              "      <td>3</td>\n",
              "      <td>0</td>\n",
              "    </tr>\n",
              "    <tr>\n",
              "      <th>4</th>\n",
              "      <td>4</td>\n",
              "      <td>0</td>\n",
              "    </tr>\n",
              "  </tbody>\n",
              "</table>\n",
              "</div>"
            ],
            "text/plain": [
              "   image_index  class\n",
              "0            0      0\n",
              "1            1      6\n",
              "2            2      0\n",
              "3            3      0\n",
              "4            4      0"
            ]
          },
          "metadata": {
            "tags": []
          },
          "execution_count": 189
        }
      ]
    },
    {
      "metadata": {
        "id": "qXgNDFaKrxGb",
        "colab_type": "text"
      },
      "cell_type": "markdown",
      "source": [
        "Everything looks fine and according to the sample submission format. Dump the predictions into a `CSV` file."
      ]
    },
    {
      "metadata": {
        "id": "6IWy22LNrkEw",
        "colab_type": "code",
        "colab": {}
      },
      "cell_type": "code",
      "source": [
        "pred.to_csv('pred.csv', index=False)"
      ],
      "execution_count": 0,
      "outputs": []
    },
    {
      "metadata": {
        "id": "6cX-qb5ltW2s",
        "colab_type": "code",
        "colab": {}
      },
      "cell_type": "code",
      "source": [
        ""
      ],
      "execution_count": 0,
      "outputs": []
    }
  ]
}